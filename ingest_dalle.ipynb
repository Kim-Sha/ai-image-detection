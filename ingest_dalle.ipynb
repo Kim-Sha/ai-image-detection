{
 "cells": [
  {
   "cell_type": "code",
   "execution_count": 1,
   "metadata": {
    "colab": {
     "base_uri": "https://localhost:8080/"
    },
    "executionInfo": {
     "elapsed": 13332,
     "status": "ok",
     "timestamp": 1682434897095,
     "user": {
      "displayName": "Kim Sha",
      "userId": "01116403193037744262"
     },
     "user_tz": 240
    },
    "id": "fA-JKbcY26rP",
    "outputId": "bccf97d1-5a00-4a43-8c0e-62bdc732b259"
   },
   "outputs": [],
   "source": [
    "# !pip install transformers"
   ]
  },
  {
   "cell_type": "code",
   "execution_count": 2,
   "metadata": {
    "executionInfo": {
     "elapsed": 1259,
     "status": "ok",
     "timestamp": 1682434899326,
     "user": {
      "displayName": "Kim Sha",
      "userId": "01116403193037744262"
     },
     "user_tz": 240
    },
    "id": "BCU5uXf56tE-"
   },
   "outputs": [],
   "source": [
    "import torch\n",
    "import torchvision\n",
    "\n",
    "from transformers import AutoFeatureExtractor, AutoImageProcessor, ViTForImageClassification"
   ]
  },
  {
   "cell_type": "code",
   "execution_count": 3,
   "metadata": {
    "id": "rhtaygBa7M4I"
   },
   "outputs": [],
   "source": [
    "def load_dalle(feature_extractor, BATCH_SIZE):\n",
    "\n",
    "    # AutoFeatureExtractor\n",
    "    def transform(image):\n",
    "        return feature_extractor(image, return_tensors='pt')['pixel_values'].squeeze()\n",
    "    \n",
    "    ds = torchvision.datasets.ImageFolder(root=\"./root\", transform=transform)\n",
    "\n",
    "    # 80/20 train-test split\n",
    "    ds_train, ds_test = torch.utils.data.random_split(ds, lengths=[round(0.8 * len(ds)), round(0.2 * len(ds))])\n",
    "\n",
    "    # DataLoaders: loads and shuffles the training dataset in mini-batches\n",
    "    train_loader = torch.utils.data.DataLoader(ds_train, batch_size=BATCH_SIZE,\n",
    "                                               shuffle=True, num_workers=2)\n",
    "    test_loader = torch.utils.data.DataLoader(ds_test, batch_size=BATCH_SIZE,\n",
    "                                              shuffle=True, num_workers=2)\n",
    "    \n",
    "    return train_loader, test_loader"
   ]
  },
  {
   "cell_type": "code",
   "execution_count": 4,
   "metadata": {},
   "outputs": [
    {
     "name": "stderr",
     "output_type": "stream",
     "text": [
      "/Users/kimsha/opt/anaconda3/envs/deeplearn/lib/python3.9/site-packages/transformers/models/vit/feature_extraction_vit.py:28: FutureWarning: The class ViTFeatureExtractor is deprecated and will be removed in version 5 of Transformers. Please use ViTImageProcessor instead.\n",
      "  warnings.warn(\n"
     ]
    }
   ],
   "source": [
    "# Load dataset\n",
    "train_loader, test_loader = load_dalle(AutoFeatureExtractor.from_pretrained(\"google/vit-base-patch16-224\"), 64)"
   ]
  }
 ],
 "metadata": {
  "colab": {
   "authorship_tag": "ABX9TyNm+CWzKAFgR9rAjjKJevBe",
   "mount_file_id": "1qfeG6mmMLsBPbcJay028ryZ5ImOB5OGs",
   "provenance": []
  },
  "kernelspec": {
   "display_name": "Python [conda env:deeplearn]",
   "language": "python",
   "name": "conda-env-deeplearn-py"
  },
  "language_info": {
   "codemirror_mode": {
    "name": "ipython",
    "version": 3
   },
   "file_extension": ".py",
   "mimetype": "text/x-python",
   "name": "python",
   "nbconvert_exporter": "python",
   "pygments_lexer": "ipython3",
   "version": "3.9.16"
  }
 },
 "nbformat": 4,
 "nbformat_minor": 4
}
