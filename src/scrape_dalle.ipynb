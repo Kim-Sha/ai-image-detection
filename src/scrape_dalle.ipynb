{
 "cells": [
  {
   "cell_type": "code",
   "execution_count": 1,
   "id": "ed74c17f-de78-4f76-80c8-ebbd91ff9be9",
   "metadata": {},
   "outputs": [],
   "source": [
    "import pandas as pd\n",
    "import json\n",
    "import numpy\n",
    "\n",
    "import shutil\n",
    "import requests\n",
    "\n",
    "from tqdm.notebook import tqdm"
   ]
  },
  {
   "cell_type": "markdown",
   "id": "44fe672c-58cf-444e-b24e-0d7839116046",
   "metadata": {},
   "source": [
    "# Downloading images from the Dall-E 2 Image Database\n",
    "\n",
    "https://dalle2.gallery/#search-random"
   ]
  },
  {
   "cell_type": "markdown",
   "id": "21713a96-0044-48b2-b0a4-c19af1356caf",
   "metadata": {},
   "source": [
    "## Retrieve Image Identifiers"
   ]
  },
  {
   "cell_type": "code",
   "execution_count": 2,
   "id": "915d66e7-3716-4b6c-b112-21cd6f7230fa",
   "metadata": {},
   "outputs": [],
   "source": [
    "def get_image_identifiers(page=0):\n",
    "    \n",
    "    response = requests.get(f\"https://dalle2.gallery/api/images/aggregated?pagesize=20&page={page}\", verify=False)\n",
    "    response = json.loads(response.text)\n",
    "    \n",
    "    identifiers = [item for sublist in [x['Ids'] for x in response] for item in sublist]\n",
    "    \n",
    "    return identifiers"
   ]
  },
  {
   "cell_type": "code",
   "execution_count": 3,
   "id": "c6a3e930-13b2-480d-8a4a-f4b275a47b94",
   "metadata": {},
   "outputs": [],
   "source": [
    "import warnings\n",
    "warnings.filterwarnings(\"ignore\")"
   ]
  },
  {
   "cell_type": "code",
   "execution_count": 4,
   "id": "5e1b77fe-6dfb-432a-a9b8-be716f7c75a2",
   "metadata": {},
   "outputs": [
    {
     "data": {
      "application/vnd.jupyter.widget-view+json": {
       "model_id": "f20c1fdd43f24e80bd6f71343e1c9554",
       "version_major": 2,
       "version_minor": 0
      },
      "text/plain": [
       "  0%|          | 0/50 [00:00<?, ?it/s]"
      ]
     },
     "metadata": {},
     "output_type": "display_data"
    }
   ],
   "source": [
    "identifiers = []\n",
    "for page in tqdm(range(50)):\n",
    "    identifiers.extend(get_image_identifiers(page))"
   ]
  },
  {
   "cell_type": "markdown",
   "id": "ed689b39-513e-4d28-b016-151ccbc8616d",
   "metadata": {},
   "source": [
    "## Download Images"
   ]
  },
  {
   "cell_type": "code",
   "execution_count": 8,
   "id": "0eb3cedf-cd69-4784-ab56-f8a1afc8a9ba",
   "metadata": {},
   "outputs": [
    {
     "data": {
      "application/vnd.jupyter.widget-view+json": {
       "model_id": "78e74ce83e2f4eb2a509382ae6ddeb9c",
       "version_major": 2,
       "version_minor": 0
      },
      "text/plain": [
       "  0%|          | 0/1115 [00:00<?, ?it/s]"
      ]
     },
     "metadata": {},
     "output_type": "display_data"
    }
   ],
   "source": [
    "for uuid in tqdm(identifiers):\n",
    "    \n",
    "    url_stub = f\"https://ditlgf0hrcl4j.cloudfront.net/{uuid}/generated\"\n",
    "    img = requests.get(url_stub, verify=False, stream=True)\n",
    "    \n",
    "    if img.status_code == 200:\n",
    "        with open(f\"../data/dallegallery/dallegallery_{uuid}.jpg\", 'wb') as f:\n",
    "            img.raw.decode_content = True\n",
    "            shutil.copyfileobj(img.raw, f)"
   ]
  }
 ],
 "metadata": {
  "kernelspec": {
   "display_name": "Python [conda env:dsw]",
   "language": "python",
   "name": "conda-env-dsw-py"
  },
  "language_info": {
   "codemirror_mode": {
    "name": "ipython",
    "version": 3
   },
   "file_extension": ".py",
   "mimetype": "text/x-python",
   "name": "python",
   "nbconvert_exporter": "python",
   "pygments_lexer": "ipython3",
   "version": "3.10.11"
  }
 },
 "nbformat": 4,
 "nbformat_minor": 5
}
